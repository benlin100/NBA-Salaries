{
 "cells": [
  {
   "cell_type": "code",
   "execution_count": 1,
   "metadata": {},
   "outputs": [
    {
     "name": "stderr",
     "output_type": "stream",
     "text": [
      "/anaconda3/lib/python3.6/site-packages/statsmodels/compat/pandas.py:56: FutureWarning: The pandas.core.datetools module is deprecated and will be removed in a future version. Please use the pandas.tseries module instead.\n",
      "  from pandas.core import datetools\n",
      "/anaconda3/lib/python3.6/site-packages/sklearn/cross_validation.py:41: DeprecationWarning: This module was deprecated in version 0.18 in favor of the model_selection module into which all the refactored classes and functions are moved. Also note that the interface of the new CV iterators are different from that of this module. This module will be removed in 0.20.\n",
      "  \"This module will be removed in 0.20.\", DeprecationWarning)\n"
     ]
    }
   ],
   "source": [
    "# all of the imports\n",
    "import pandas as pd\n",
    "import numpy as np\n",
    "import pickle \n",
    "import patsy\n",
    "import statsmodels.api as sm\n",
    "import statsmodels.formula.api as smf\n",
    "import matplotlib.pyplot as plt\n",
    "import seaborn as sns\n",
    "from sklearn.linear_model import LinearRegression\n",
    "from sklearn import metrics\n",
    "from sklearn.preprocessing import PolynomialFeatures\n",
    "from sklearn.pipeline import make_pipeline\n",
    "from sklearn.cross_validation import train_test_split\n",
    "from sklearn.cross_validation import KFold\n",
    "% matplotlib inline\n",
    "from sklearn import feature_selection as f_select\n",
    "\n",
    "import os.path\n",
    "\n",
    "import warnings\n",
    "warnings.filterwarnings('ignore')\n",
    "\n",
    "from sklearn.model_selection import cross_val_score\n",
    "from sklearn.cross_validation import cross_val_score\n",
    "from sklearn import linear_model\n",
    "\n",
    "import numpy as np\n",
    "import pandas as pd\n",
    "from scipy import stats, integrate\n",
    "import matplotlib.pyplot as plt\n",
    "import seaborn as sns\n",
    "from sklearn.linear_model import Ridge\n",
    "from sklearn.linear_model import Lasso\n",
    "\n",
    "from sklearn.model_selection import KFold\n",
    "from sklearn.model_selection import GridSearchCV\n",
    "from sklearn.linear_model import Lasso"
   ]
  },
  {
   "cell_type": "code",
   "execution_count": 2,
   "metadata": {},
   "outputs": [],
   "source": [
    "DATA_DIR = os.path.join(\"nba_FINALDATA_ytransform.csv\")\n",
    "nba_df = pd.read_csv(os.path.join(DATA_DIR))\n",
    "nba_df.drop(['Unnamed: 0'], axis=1, inplace=True)"
   ]
  },
  {
   "cell_type": "markdown",
   "metadata": {},
   "source": [
    "# split our data into 80 train and 20 test"
   ]
  },
  {
   "cell_type": "code",
   "execution_count": 3,
   "metadata": {
    "collapsed": true
   },
   "outputs": [],
   "source": [
    "#splitting it into 80/20 - smaller dataset\n",
    "X_train, X_test, y_train, y_test = train_test_split(nba_df.loc[:, nba_df.columns != 'sqrty'], nba_df.sqrty, test_size=0.2, random_state =1234)"
   ]
  },
  {
   "cell_type": "markdown",
   "metadata": {},
   "source": [
    "# Model Building - Excuse my weird labeling.. I am starting from Model 3 to Model 1 to Model 2"
   ]
  },
  {
   "cell_type": "markdown",
   "metadata": {},
   "source": [
    "# MODEL 3 - include ALL numerics features in the linear regression (except age). regress on sqrt(y)"
   ]
  },
  {
   "cell_type": "code",
   "execution_count": 6,
   "metadata": {
    "collapsed": true
   },
   "outputs": [],
   "source": [
    "#train\n",
    "y = y_train\n",
    "X = X_train[['G', 'GS', 'MP', 'FG', 'FGA', 'FG_Per','threeP', 'threePA', 'threeP_Perc', 'twoP', 'twoPA', 'twoP_Per','eFG_Per', 'FT', 'FTA', 'FT_Per', 'ORB', 'DRB', 'TRB', 'AST', 'STL','BLK', 'TOV', 'PF', 'PS_Game', 'playoff']]\n",
    "\n",
    "#test\n",
    "y_test = y_test \n",
    "X_test = X_test[['G', 'GS', 'MP', 'FG', 'FGA', 'FG_Per','threeP', 'threePA', 'threeP_Perc', 'twoP', 'twoPA', 'twoP_Per','eFG_Per', 'FT', 'FTA', 'FT_Per', 'ORB', 'DRB', 'TRB', 'AST', 'STL','BLK', 'TOV', 'PF', 'PS_Game', 'playoff']]"
   ]
  },
  {
   "cell_type": "markdown",
   "metadata": {},
   "source": [
    "# Linear Regression Model"
   ]
  },
  {
   "cell_type": "code",
   "execution_count": 7,
   "metadata": {},
   "outputs": [
    {
     "name": "stdout",
     "output_type": "stream",
     "text": [
      "0.553474398667\n"
     ]
    }
   ],
   "source": [
    "linreg = LinearRegression()\n",
    "\n",
    "#5 fold cross-validation r^2 mean score\n",
    "linreg_scores = cross_val_score(linreg, X, y, cv=5)\n",
    "\n",
    "print(np.mean(linreg_scores))"
   ]
  },
  {
   "cell_type": "code",
   "execution_count": 8,
   "metadata": {},
   "outputs": [
    {
     "data": {
      "text/plain": [
       "0.59503482943043751"
      ]
     },
     "execution_count": 8,
     "metadata": {},
     "output_type": "execute_result"
    }
   ],
   "source": [
    "linreg.fit(X, y)\n",
    "linreg.score(X_test, y_test)"
   ]
  },
  {
   "cell_type": "code",
   "execution_count": 9,
   "metadata": {},
   "outputs": [
    {
     "data": {
      "text/plain": [
       "0.63370756517881832"
      ]
     },
     "execution_count": 9,
     "metadata": {},
     "output_type": "execute_result"
    }
   ],
   "source": [
    "linreg.score(X, y)"
   ]
  },
  {
   "cell_type": "markdown",
   "metadata": {},
   "source": [
    "**OVERFITTING!!**"
   ]
  },
  {
   "cell_type": "markdown",
   "metadata": {},
   "source": [
    "# Ridge Linear Regression Model"
   ]
  },
  {
   "cell_type": "markdown",
   "metadata": {},
   "source": [
    "**find the best hyperparameters using grid search**"
   ]
  },
  {
   "cell_type": "code",
   "execution_count": 10,
   "metadata": {},
   "outputs": [
    {
     "name": "stdout",
     "output_type": "stream",
     "text": [
      "[0.0001, 0.001, 0.0015, 0.01, 0.015, 0.1, 1, 5, 10, 50, 100, 1000, 10000, 100000] [True, False]\n",
      "{'alpha': [0.0001, 0.001, 0.0015, 0.01, 0.015, 0.1, 1, 5, 10, 50, 100, 1000, 10000, 100000], 'normalize': [True, False]}\n",
      "Best parameters set found on development set:\n",
      "\n",
      "{'alpha': 1, 'normalize': False}\n",
      "\n",
      "Grid scores on development set:\n",
      "\n"
     ]
    }
   ],
   "source": [
    "# Define the parameter values that should be searched\n",
    "alpha_range = [1e-4, 1e-3, 1.5e-3, 1e-2, 1.5e-2, 1e-1, 1, 5, 10, 50, 100, 1000, 10000, 100000]\n",
    "normalize_range = [True, False]\n",
    "print(alpha_range, normalize_range)\n",
    "\n",
    "# Create a parameter grid: map the parameter names to the values that should be searched\n",
    "param_grid = dict(alpha=alpha_range, normalize=normalize_range)\n",
    "print(param_grid)\n",
    "\n",
    "# Instantiate the grid\n",
    "grid = GridSearchCV(Ridge(), param_grid, cv=5)\n",
    "grid.fit(X, y)\n",
    "\n",
    "# View best parameter\n",
    "print(\"Best parameters set found on development set:\")\n",
    "print()\n",
    "print(grid.best_params_)\n",
    "print()\n",
    "print(\"Grid scores on development set:\")\n",
    "print()\n",
    "means = grid.cv_results_['mean_test_score']\n",
    "stds = grid.cv_results_['std_test_score']"
   ]
  },
  {
   "cell_type": "markdown",
   "metadata": {},
   "source": [
    "**build ridge model with 'alpha': 1, 'normalize': False**"
   ]
  },
  {
   "cell_type": "code",
   "execution_count": 11,
   "metadata": {},
   "outputs": [
    {
     "name": "stdout",
     "output_type": "stream",
     "text": [
      "Coefficients: [    2.55955732     2.87611824    49.01642402   439.59073105  -188.23744489\n",
      "   163.50989688   463.50839041  -256.75637162 -1084.2598508   -967.64831727\n",
      "   294.58643497   176.96902867   -65.32419086  -438.19938322   331.19061505\n",
      "   517.00691112  -196.0063359    -45.28103138   254.38012245   113.42346082\n",
      "    10.41599687   -59.22576656  -204.22631377  -158.29896402   161.05565343\n",
      "   278.85546432]\n",
      "\n",
      "Intercept: 19.5413407337\n",
      "G 2.55955732333\n",
      "GS 2.87611823645\n",
      "MP 49.0164240247\n",
      "FG 439.590731049\n",
      "FGA -188.23744489\n",
      "FG_Per 163.509896882\n",
      "threeP 463.508390405\n",
      "threePA -256.756371618\n",
      "threeP_Perc -1084.2598508\n",
      "twoP -967.648317272\n",
      "twoPA 294.586434965\n",
      "twoP_Per 176.969028674\n",
      "eFG_Per -65.3241908591\n",
      "FT -438.199383225\n",
      "FTA 331.190615055\n",
      "FT_Per 517.006911124\n",
      "ORB -196.006335896\n",
      "DRB -45.281031382\n",
      "TRB 254.380122446\n",
      "AST 113.423460825\n",
      "STL 10.4159968718\n",
      "BLK -59.2257665596\n",
      "TOV -204.226313773\n",
      "PF -158.298964024\n",
      "PS_Game 161.055653426\n",
      "playoff 278.855464319\n"
     ]
    }
   ],
   "source": [
    "# Run Lasso with optimized alpha and normalize parameters\n",
    "ridge = Ridge(alpha=1, normalize=False)\n",
    "\n",
    "# Fit model\n",
    "ridge.fit(X, y)\n",
    "\n",
    "# View coefficients and intercept\n",
    "print('Coefficients:',ridge.coef_)\n",
    "print()\n",
    "print('Intercept:',ridge.intercept_)\n",
    "\n",
    "# View each variable and its coefficient\n",
    "for var, co in zip(nba_df[['G', 'GS', 'MP', 'FG', 'FGA', 'FG_Per','threeP', 'threePA', 'threeP_Perc', 'twoP', 'twoPA', 'twoP_Per','eFG_Per', 'FT', 'FTA', 'FT_Per', 'ORB', 'DRB', 'TRB', 'AST', 'STL','BLK', 'TOV', 'PF', 'PS_Game', 'playoff']], ridge.coef_):\n",
    "    print(var, co)"
   ]
  },
  {
   "cell_type": "code",
   "execution_count": 12,
   "metadata": {},
   "outputs": [
    {
     "name": "stdout",
     "output_type": "stream",
     "text": [
      "0.563493238739\n"
     ]
    }
   ],
   "source": [
    "#5 fold cross-validation r^2 mean score\n",
    "ridge_scores = cross_val_score(ridge, X, y, cv=5)\n",
    "\n",
    "print(np.mean(ridge_scores))"
   ]
  },
  {
   "cell_type": "code",
   "execution_count": 13,
   "metadata": {},
   "outputs": [
    {
     "data": {
      "text/html": [
       "<div>\n",
       "<style>\n",
       "    .dataframe thead tr:only-child th {\n",
       "        text-align: right;\n",
       "    }\n",
       "\n",
       "    .dataframe thead th {\n",
       "        text-align: left;\n",
       "    }\n",
       "\n",
       "    .dataframe tbody tr th {\n",
       "        vertical-align: top;\n",
       "    }\n",
       "</style>\n",
       "<table border=\"1\" class=\"dataframe\">\n",
       "  <thead>\n",
       "    <tr style=\"text-align: right;\">\n",
       "      <th></th>\n",
       "      <th>abs_coef</th>\n",
       "      <th>coef</th>\n",
       "      <th>variable</th>\n",
       "    </tr>\n",
       "  </thead>\n",
       "  <tbody>\n",
       "    <tr>\n",
       "      <th>8</th>\n",
       "      <td>1084.259851</td>\n",
       "      <td>-1084.259851</td>\n",
       "      <td>threeP_Perc</td>\n",
       "    </tr>\n",
       "    <tr>\n",
       "      <th>9</th>\n",
       "      <td>967.648317</td>\n",
       "      <td>-967.648317</td>\n",
       "      <td>twoP</td>\n",
       "    </tr>\n",
       "    <tr>\n",
       "      <th>15</th>\n",
       "      <td>517.006911</td>\n",
       "      <td>517.006911</td>\n",
       "      <td>FT_Per</td>\n",
       "    </tr>\n",
       "    <tr>\n",
       "      <th>6</th>\n",
       "      <td>463.508390</td>\n",
       "      <td>463.508390</td>\n",
       "      <td>threeP</td>\n",
       "    </tr>\n",
       "    <tr>\n",
       "      <th>3</th>\n",
       "      <td>439.590731</td>\n",
       "      <td>439.590731</td>\n",
       "      <td>FG</td>\n",
       "    </tr>\n",
       "    <tr>\n",
       "      <th>13</th>\n",
       "      <td>438.199383</td>\n",
       "      <td>-438.199383</td>\n",
       "      <td>FT</td>\n",
       "    </tr>\n",
       "    <tr>\n",
       "      <th>14</th>\n",
       "      <td>331.190615</td>\n",
       "      <td>331.190615</td>\n",
       "      <td>FTA</td>\n",
       "    </tr>\n",
       "    <tr>\n",
       "      <th>10</th>\n",
       "      <td>294.586435</td>\n",
       "      <td>294.586435</td>\n",
       "      <td>twoPA</td>\n",
       "    </tr>\n",
       "    <tr>\n",
       "      <th>25</th>\n",
       "      <td>278.855464</td>\n",
       "      <td>278.855464</td>\n",
       "      <td>playoff</td>\n",
       "    </tr>\n",
       "    <tr>\n",
       "      <th>7</th>\n",
       "      <td>256.756372</td>\n",
       "      <td>-256.756372</td>\n",
       "      <td>threePA</td>\n",
       "    </tr>\n",
       "    <tr>\n",
       "      <th>18</th>\n",
       "      <td>254.380122</td>\n",
       "      <td>254.380122</td>\n",
       "      <td>TRB</td>\n",
       "    </tr>\n",
       "    <tr>\n",
       "      <th>22</th>\n",
       "      <td>204.226314</td>\n",
       "      <td>-204.226314</td>\n",
       "      <td>TOV</td>\n",
       "    </tr>\n",
       "    <tr>\n",
       "      <th>16</th>\n",
       "      <td>196.006336</td>\n",
       "      <td>-196.006336</td>\n",
       "      <td>ORB</td>\n",
       "    </tr>\n",
       "    <tr>\n",
       "      <th>4</th>\n",
       "      <td>188.237445</td>\n",
       "      <td>-188.237445</td>\n",
       "      <td>FGA</td>\n",
       "    </tr>\n",
       "    <tr>\n",
       "      <th>11</th>\n",
       "      <td>176.969029</td>\n",
       "      <td>176.969029</td>\n",
       "      <td>twoP_Per</td>\n",
       "    </tr>\n",
       "    <tr>\n",
       "      <th>5</th>\n",
       "      <td>163.509897</td>\n",
       "      <td>163.509897</td>\n",
       "      <td>FG_Per</td>\n",
       "    </tr>\n",
       "    <tr>\n",
       "      <th>24</th>\n",
       "      <td>161.055653</td>\n",
       "      <td>161.055653</td>\n",
       "      <td>PS_Game</td>\n",
       "    </tr>\n",
       "    <tr>\n",
       "      <th>23</th>\n",
       "      <td>158.298964</td>\n",
       "      <td>-158.298964</td>\n",
       "      <td>PF</td>\n",
       "    </tr>\n",
       "    <tr>\n",
       "      <th>19</th>\n",
       "      <td>113.423461</td>\n",
       "      <td>113.423461</td>\n",
       "      <td>AST</td>\n",
       "    </tr>\n",
       "    <tr>\n",
       "      <th>12</th>\n",
       "      <td>65.324191</td>\n",
       "      <td>-65.324191</td>\n",
       "      <td>eFG_Per</td>\n",
       "    </tr>\n",
       "    <tr>\n",
       "      <th>21</th>\n",
       "      <td>59.225767</td>\n",
       "      <td>-59.225767</td>\n",
       "      <td>BLK</td>\n",
       "    </tr>\n",
       "    <tr>\n",
       "      <th>2</th>\n",
       "      <td>49.016424</td>\n",
       "      <td>49.016424</td>\n",
       "      <td>MP</td>\n",
       "    </tr>\n",
       "    <tr>\n",
       "      <th>17</th>\n",
       "      <td>45.281031</td>\n",
       "      <td>-45.281031</td>\n",
       "      <td>DRB</td>\n",
       "    </tr>\n",
       "    <tr>\n",
       "      <th>20</th>\n",
       "      <td>10.415997</td>\n",
       "      <td>10.415997</td>\n",
       "      <td>STL</td>\n",
       "    </tr>\n",
       "    <tr>\n",
       "      <th>1</th>\n",
       "      <td>2.876118</td>\n",
       "      <td>2.876118</td>\n",
       "      <td>GS</td>\n",
       "    </tr>\n",
       "    <tr>\n",
       "      <th>0</th>\n",
       "      <td>2.559557</td>\n",
       "      <td>2.559557</td>\n",
       "      <td>G</td>\n",
       "    </tr>\n",
       "  </tbody>\n",
       "</table>\n",
       "</div>"
      ],
      "text/plain": [
       "       abs_coef         coef     variable\n",
       "8   1084.259851 -1084.259851  threeP_Perc\n",
       "9    967.648317  -967.648317         twoP\n",
       "15   517.006911   517.006911       FT_Per\n",
       "6    463.508390   463.508390       threeP\n",
       "3    439.590731   439.590731           FG\n",
       "13   438.199383  -438.199383           FT\n",
       "14   331.190615   331.190615          FTA\n",
       "10   294.586435   294.586435        twoPA\n",
       "25   278.855464   278.855464      playoff\n",
       "7    256.756372  -256.756372      threePA\n",
       "18   254.380122   254.380122          TRB\n",
       "22   204.226314  -204.226314          TOV\n",
       "16   196.006336  -196.006336          ORB\n",
       "4    188.237445  -188.237445          FGA\n",
       "11   176.969029   176.969029     twoP_Per\n",
       "5    163.509897   163.509897       FG_Per\n",
       "24   161.055653   161.055653      PS_Game\n",
       "23   158.298964  -158.298964           PF\n",
       "19   113.423461   113.423461          AST\n",
       "12    65.324191   -65.324191      eFG_Per\n",
       "21    59.225767   -59.225767          BLK\n",
       "2     49.016424    49.016424           MP\n",
       "17    45.281031   -45.281031          DRB\n",
       "20    10.415997    10.415997          STL\n",
       "1      2.876118     2.876118           GS\n",
       "0      2.559557     2.559557            G"
      ]
     },
     "execution_count": 13,
     "metadata": {},
     "output_type": "execute_result"
    }
   ],
   "source": [
    "#creating df to look at coefs\n",
    "ridge_coefs = pd.DataFrame({'variable':X.columns,\n",
    "                            'coef':ridge.coef_,\n",
    "                            'abs_coef':np.abs(ridge.coef_)})\n",
    "\n",
    "ridge_coefs.sort_values('abs_coef', inplace=True, ascending=False)\n",
    "\n",
    "ridge_coefs"
   ]
  },
  {
   "cell_type": "markdown",
   "metadata": {},
   "source": [
    "- many of the variables shifted in terms of how strong their coeffs are\n",
    "- everything makes sense except for the two very negative coefficients.. \n",
    "- the cross validation & test score are both better in ridge than in linear regression!"
   ]
  },
  {
   "cell_type": "markdown",
   "metadata": {},
   "source": [
    "# Lasso Linear Regression Model"
   ]
  },
  {
   "cell_type": "markdown",
   "metadata": {},
   "source": [
    "**find the best hyperparameters using grid search**"
   ]
  },
  {
   "cell_type": "code",
   "execution_count": 14,
   "metadata": {},
   "outputs": [
    {
     "name": "stdout",
     "output_type": "stream",
     "text": [
      "[0.0001, 0.001, 0.0015, 0.01, 0.015, 0.1, 1, 5, 10, 50, 100, 1000, 10000, 100000] [True, False]\n",
      "{'alpha': [0.0001, 0.001, 0.0015, 0.01, 0.015, 0.1, 1, 5, 10, 50, 100, 1000, 10000, 100000], 'normalize': [True, False]}\n",
      "Best parameters set found on development set:\n",
      "\n",
      "{'alpha': 1, 'normalize': False}\n",
      "\n",
      "Grid scores on development set:\n",
      "\n"
     ]
    }
   ],
   "source": [
    "# Define the parameter values that should be searched\n",
    "alpha_range = [1e-4, 1e-3, 1.5e-3, 1e-2, 1.5e-2, 1e-1, 1, 5, 10, 50, 100, 1000, 10000, 100000]\n",
    "normalize_range = [True, False]\n",
    "print(alpha_range, normalize_range)\n",
    "\n",
    "# Create a parameter grid: map the parameter names to the values that should be searched\n",
    "param_grid = dict(alpha=alpha_range, normalize=normalize_range)\n",
    "print(param_grid)\n",
    "\n",
    "# Instantiate the grid\n",
    "grid = GridSearchCV(Lasso(), param_grid, cv=5)\n",
    "grid.fit(X, y)\n",
    "\n",
    "# View best parameter\n",
    "print(\"Best parameters set found on development set:\")\n",
    "print()\n",
    "print(grid.best_params_)\n",
    "print()\n",
    "print(\"Grid scores on development set:\")\n",
    "print()\n",
    "means = grid.cv_results_['mean_test_score']\n",
    "stds = grid.cv_results_['std_test_score']"
   ]
  },
  {
   "cell_type": "markdown",
   "metadata": {},
   "source": [
    "**build lasso model with 'alpha': 1, 'normalize': False**"
   ]
  },
  {
   "cell_type": "code",
   "execution_count": 15,
   "metadata": {},
   "outputs": [
    {
     "name": "stdout",
     "output_type": "stream",
     "text": [
      "Coefficients: [    2.76913946     2.86000379    48.65923592   314.83690338  -161.01257175\n",
      "     0.          1050.61029991  -313.85944101 -1278.391462    -622.91737939\n",
      "   280.96406431   217.77362654     0.          -343.68046758   354.08997908\n",
      "   567.61691564  -103.10707546    48.78858586   159.56957036   116.85767308\n",
      "     0.           -41.70505141  -211.89272122  -159.8011036     38.54314772\n",
      "   279.59613633]\n",
      "\n",
      "Intercept: 44.3980233212\n",
      "G 2.76913945796\n",
      "GS 2.86000378795\n",
      "MP 48.6592359186\n",
      "FG 314.836903377\n",
      "FGA -161.01257175\n",
      "FG_Per 0.0\n",
      "threeP 1050.61029991\n",
      "threePA -313.859441014\n",
      "threeP_Perc -1278.391462\n",
      "twoP -622.917379393\n",
      "twoPA 280.964064311\n",
      "twoP_Per 217.773626543\n",
      "eFG_Per 0.0\n",
      "FT -343.68046758\n",
      "FTA 354.089979082\n",
      "FT_Per 567.616915636\n",
      "ORB -103.107075456\n",
      "DRB 48.7885858647\n",
      "TRB 159.569570362\n",
      "AST 116.857673085\n",
      "STL 0.0\n",
      "BLK -41.7050514067\n",
      "TOV -211.892721218\n",
      "PF -159.8011036\n",
      "PS_Game 38.5431477241\n",
      "playoff 279.596136331\n"
     ]
    }
   ],
   "source": [
    "# Run Lasso with optimized alpha and normalize parameters\n",
    "lasso = Lasso(alpha=1, normalize=False)\n",
    "\n",
    "# Fit model\n",
    "lasso.fit(X, y)\n",
    "\n",
    "# View coefficients and intercept\n",
    "print('Coefficients:',lasso.coef_)\n",
    "print()\n",
    "print('Intercept:',lasso.intercept_)\n",
    "\n",
    "# View each variable and its coefficient\n",
    "for var, co in zip(nba_df[['G', 'GS', 'MP', 'FG', 'FGA', 'FG_Per','threeP', 'threePA', 'threeP_Perc', 'twoP', 'twoPA', 'twoP_Per','eFG_Per', 'FT', 'FTA', 'FT_Per', 'ORB', 'DRB', 'TRB', 'AST', 'STL','BLK', 'TOV', 'PF', 'PS_Game', 'playoff']], lasso.coef_):\n",
    "    print(var, co)"
   ]
  },
  {
   "cell_type": "code",
   "execution_count": 16,
   "metadata": {},
   "outputs": [
    {
     "name": "stdout",
     "output_type": "stream",
     "text": [
      "0.560859831612\n"
     ]
    }
   ],
   "source": [
    "#5 fold cross-validation r^2 mean score\n",
    "lasso_scores = cross_val_score(lasso, X, y, cv=5)\n",
    "\n",
    "print(np.mean(lasso_scores))"
   ]
  },
  {
   "cell_type": "markdown",
   "metadata": {},
   "source": [
    "# Elastic Net"
   ]
  },
  {
   "cell_type": "code",
   "execution_count": 17,
   "metadata": {},
   "outputs": [
    {
     "name": "stdout",
     "output_type": "stream",
     "text": [
      "[0.0001, 0.001, 0.0015, 0.01, 0.015, 0.1, 1, 5, 10, 50, 100, 1000, 10000, 100000] [True, False]\n",
      "{'alpha': [0.0001, 0.001, 0.0015, 0.01, 0.015, 0.1, 1, 5, 10, 50, 100, 1000, 10000, 100000], 'normalize': [True, False]}\n",
      "Best parameters set found on development set:\n",
      "\n",
      "{'alpha': 0.01, 'normalize': False}\n",
      "\n",
      "Grid scores on development set:\n",
      "\n"
     ]
    }
   ],
   "source": [
    "from sklearn.linear_model import ElasticNet\n",
    "\n",
    "# Define the parameter values that should be searched\n",
    "alpha_range = [1e-4, 1e-3, 1.5e-3, 1e-2, 1.5e-2, 1e-1, 1, 5, 10, 50, 100, 1000, 10000, 100000]\n",
    "normalize_range = [True, False]\n",
    "print(alpha_range, normalize_range)\n",
    "\n",
    "# Create a parameter grid: map the parameter names to the values that should be searched\n",
    "param_grid = dict(alpha=alpha_range, normalize=normalize_range)\n",
    "print(param_grid)\n",
    "\n",
    "# Instantiate the grid\n",
    "grid = GridSearchCV(ElasticNet(), param_grid, cv=5)\n",
    "grid.fit(X, y)\n",
    "\n",
    "# View best parameter\n",
    "print(\"Best parameters set found on development set:\")\n",
    "print()\n",
    "print(grid.best_params_)\n",
    "print()\n",
    "print(\"Grid scores on development set:\")\n",
    "print()\n",
    "means = grid.cv_results_['mean_test_score']\n",
    "stds = grid.cv_results_['std_test_score']"
   ]
  },
  {
   "cell_type": "code",
   "execution_count": 18,
   "metadata": {},
   "outputs": [
    {
     "name": "stdout",
     "output_type": "stream",
     "text": [
      "Coefficients: [   2.43878916    2.93811133   48.52324139  224.02206148 -219.82195661\n",
      "  137.41071078  580.8926484  -168.90993889 -934.26334447 -672.41166016\n",
      "  307.12313892   90.13346778  -20.34906768 -366.21487783  289.29370516\n",
      "  442.06505589 -123.72203567    9.45187421  196.09032326  110.94051486\n",
      "   11.60522554  -64.72975021 -199.52328517 -150.87539089  140.96729227\n",
      "  277.92489035]\n",
      "\n",
      "Intercept: 65.2642424039\n",
      "G 2.43878915746\n",
      "GS 2.93811132966\n",
      "MP 48.5232413859\n",
      "FG 224.02206148\n",
      "FGA -219.821956612\n",
      "FG_Per 137.410710781\n",
      "threeP 580.892648398\n",
      "threePA -168.909938893\n",
      "threeP_Perc -934.263344474\n",
      "twoP -672.411660165\n",
      "twoPA 307.123138924\n",
      "twoP_Per 90.1334677827\n",
      "eFG_Per -20.349067683\n",
      "FT -366.214877827\n",
      "FTA 289.293705165\n",
      "FT_Per 442.065055886\n",
      "ORB -123.722035669\n",
      "DRB 9.45187420678\n",
      "TRB 196.090323264\n",
      "AST 110.940514858\n",
      "STL 11.6052255401\n",
      "BLK -64.7297502133\n",
      "TOV -199.523285173\n",
      "PF -150.875390895\n",
      "PS_Game 140.967292273\n",
      "playoff 277.92489035\n"
     ]
    }
   ],
   "source": [
    "# Run Lasso with optimized alpha and normalize parameters\n",
    "eNet = ElasticNet(alpha=0.01, normalize=False)\n",
    "\n",
    "# Fit model\n",
    "eNet.fit(X, y)\n",
    "\n",
    "# View coefficients and intercept\n",
    "print('Coefficients:',eNet.coef_)\n",
    "print()\n",
    "print('Intercept:',eNet.intercept_)\n",
    "\n",
    "# View each variable and its coefficient\n",
    "for var, co in zip(nba_df[['G', 'GS', 'MP', 'FG', 'FGA', 'FG_Per','threeP', 'threePA', 'threeP_Perc', 'twoP', 'twoPA', 'twoP_Per','eFG_Per', 'FT', 'FTA', 'FT_Per', 'ORB', 'DRB', 'TRB', 'AST', 'STL','BLK', 'TOV', 'PF', 'PS_Game', 'playoff']], eNet.coef_):\n",
    "    print(var, co)"
   ]
  },
  {
   "cell_type": "code",
   "execution_count": 19,
   "metadata": {},
   "outputs": [
    {
     "name": "stdout",
     "output_type": "stream",
     "text": [
      "0.562804249288\n"
     ]
    }
   ],
   "source": [
    "#5 fold cross-validation r^2 mean score\n",
    "eNet = cross_val_score(eNet, X, y, cv=5)\n",
    "\n",
    "print(np.mean(eNet))"
   ]
  },
  {
   "cell_type": "markdown",
   "metadata": {},
   "source": [
    "# Results for Model 3"
   ]
  },
  {
   "cell_type": "markdown",
   "metadata": {},
   "source": [
    "**from cross validation R^2 scores, ridge does the best!!!**"
   ]
  },
  {
   "cell_type": "code",
   "execution_count": 57,
   "metadata": {},
   "outputs": [
    {
     "data": {
      "text/plain": [
       "Text(0,0.5,'Residuals')"
      ]
     },
     "execution_count": 57,
     "metadata": {},
     "output_type": "execute_result"
    },
    {
     "data": {
      "image/png": "[encoded data removed]",
      "text/plain": [
       "<matplotlib.figure.Figure at 0x1c144402b0>"
      ]
     },
     "metadata": {},
     "output_type": "display_data"
    }
   ],
   "source": [
    "##sanity check - let's make sure our errors are somewhat evenly distributed\n",
    "y_pred = ridge.predict(X)\n",
    "residuals = y - y_pred\n",
    "plt.scatter(y_pred, residuals)\n",
    "plt.title(\"Predicted Salary Vs. Residuals\")\n",
    "plt.xlabel(\"Predicted Salary\")\n",
    "plt.ylabel(\"Residuals\")"
   ]
  },
  {
   "cell_type": "markdown",
   "metadata": {},
   "source": [
    "# MODEL 1 -  highest correlated features to sqrtsalary w/ multicollinearity) - regressing on sqrty"
   ]
  },
  {
   "cell_type": "code",
   "execution_count": 22,
   "metadata": {
    "collapsed": true
   },
   "outputs": [],
   "source": [
    "#train\n",
    "y = y_train\n",
    "X2 = X_train[['GS', 'MP', 'FTA', 'DRB', 'STL', 'TOV', 'PS_Game']]\n",
    "\n",
    "#test\n",
    "y_test = y_test \n",
    "X_test2 = X_test[['GS', 'MP', 'FTA', 'DRB', 'STL', 'TOV', 'PS_Game']]"
   ]
  },
  {
   "cell_type": "markdown",
   "metadata": {},
   "source": [
    "# Linear Regression Model"
   ]
  },
  {
   "cell_type": "code",
   "execution_count": 23,
   "metadata": {},
   "outputs": [
    {
     "name": "stdout",
     "output_type": "stream",
     "text": [
      "0.542617606544\n"
     ]
    }
   ],
   "source": [
    "linreg2 = LinearRegression()\n",
    "\n",
    "#5 fold cross-validation r^2 mean score\n",
    "linreg2_scores = cross_val_score(linreg2, X2, y, cv=5)\n",
    "\n",
    "print(np.mean(linreg2_scores))"
   ]
  },
  {
   "cell_type": "code",
   "execution_count": 24,
   "metadata": {},
   "outputs": [
    {
     "data": {
      "text/plain": [
       "0.5584246073886765"
      ]
     },
     "execution_count": 24,
     "metadata": {},
     "output_type": "execute_result"
    }
   ],
   "source": [
    "linreg2.fit(X2, y)\n",
    "linreg2.score(X_test2, y_test)"
   ]
  },
  {
   "cell_type": "code",
   "execution_count": 25,
   "metadata": {},
   "outputs": [
    {
     "data": {
      "text/plain": [
       "0.57315701354264925"
      ]
     },
     "execution_count": 25,
     "metadata": {},
     "output_type": "execute_result"
    }
   ],
   "source": [
    "linreg2.score(X2, y)"
   ]
  },
  {
   "cell_type": "markdown",
   "metadata": {},
   "source": [
    "**very minimal overfitting..**"
   ]
  },
  {
   "cell_type": "markdown",
   "metadata": {},
   "source": [
    "# Ridge Linear Regression Model"
   ]
  },
  {
   "cell_type": "markdown",
   "metadata": {},
   "source": [
    "**find the best hyperparameters using grid search**"
   ]
  },
  {
   "cell_type": "code",
   "execution_count": 26,
   "metadata": {},
   "outputs": [
    {
     "name": "stdout",
     "output_type": "stream",
     "text": [
      "[0.0001, 0.001, 0.0015, 0.01, 0.015, 0.1, 1, 5, 10, 50, 100, 1000, 10000, 100000] [True, False]\n",
      "{'alpha': [0.0001, 0.001, 0.0015, 0.01, 0.015, 0.1, 1, 5, 10, 50, 100, 1000, 10000, 100000], 'normalize': [True, False]}\n",
      "Best parameters set found on development set:\n",
      "\n",
      "{'alpha': 0.1, 'normalize': True}\n",
      "\n",
      "Grid scores on development set:\n",
      "\n"
     ]
    }
   ],
   "source": [
    "# Define the parameter values that should be searched\n",
    "alpha_range = [1e-4, 1e-3, 1.5e-3, 1e-2, 1.5e-2, 1e-1, 1, 5, 10, 50, 100, 1000, 10000, 100000]\n",
    "normalize_range = [True, False]\n",
    "print(alpha_range, normalize_range)\n",
    "\n",
    "# Create a parameter grid: map the parameter names to the values that should be searched\n",
    "param_grid = dict(alpha=alpha_range, normalize=normalize_range)\n",
    "print(param_grid)\n",
    "\n",
    "# Instantiate the grid\n",
    "grid = GridSearchCV(Ridge(), param_grid, cv=5)\n",
    "grid.fit(X2, y)\n",
    "\n",
    "# View best parameter\n",
    "print(\"Best parameters set found on development set:\")\n",
    "print()\n",
    "print(grid.best_params_)\n",
    "print()\n",
    "print(\"Grid scores on development set:\")\n",
    "print()\n",
    "means = grid.cv_results_['mean_test_score']\n",
    "stds = grid.cv_results_['std_test_score']"
   ]
  },
  {
   "cell_type": "markdown",
   "metadata": {},
   "source": [
    "**build ridge model with 'alpha': 0.1, 'normalize': True**"
   ]
  },
  {
   "cell_type": "code",
   "execution_count": 27,
   "metadata": {},
   "outputs": [
    {
     "name": "stdout",
     "output_type": "stream",
     "text": [
      "Coefficients: [   5.63586147   33.37029035   59.60612318  144.14724624  168.53067222\n",
      "   13.26046716   33.16364661]\n",
      "\n",
      "Intercept: 511.627986345\n",
      "GS 5.63586147179\n",
      "MP 33.370290353\n",
      "FTA 59.6061231751\n",
      "DRB 144.147246243\n",
      "STL 168.530672218\n",
      "TOV 13.2604671577\n",
      "PS_Game 33.1636466149\n"
     ]
    }
   ],
   "source": [
    "# Run Lasso with optimized alpha and normalize parameters\n",
    "ridge2 = Ridge(alpha=0.1, normalize=True)\n",
    "\n",
    "# Fit model\n",
    "ridge2.fit(X2, y)\n",
    "\n",
    "# View coefficients and intercept\n",
    "print('Coefficients:',ridge2.coef_)\n",
    "print()\n",
    "print('Intercept:',ridge2.intercept_)\n",
    "\n",
    "# View each variable and its coefficient\n",
    "for var, co in zip(nba_df[['GS', 'MP', 'FTA', 'DRB', 'STL', 'TOV', 'PS_Game']], ridge2.coef_):\n",
    "    print(var, co)"
   ]
  },
  {
   "cell_type": "code",
   "execution_count": 28,
   "metadata": {},
   "outputs": [
    {
     "name": "stdout",
     "output_type": "stream",
     "text": [
      "0.545182188956\n"
     ]
    }
   ],
   "source": [
    "#5 fold cross-validation r^2 mean score\n",
    "ridge_scores2 = cross_val_score(ridge2, X2, y, cv=5)\n",
    "\n",
    "print(np.mean(ridge_scores2))"
   ]
  },
  {
   "cell_type": "markdown",
   "metadata": {},
   "source": [
    "# Lasso Linear Regression Model"
   ]
  },
  {
   "cell_type": "markdown",
   "metadata": {},
   "source": [
    "**find the best hyperparameters using grid search**"
   ]
  },
  {
   "cell_type": "code",
   "execution_count": 29,
   "metadata": {},
   "outputs": [
    {
     "name": "stdout",
     "output_type": "stream",
     "text": [
      "[0.0001, 0.001, 0.0015, 0.01, 0.015, 0.1, 1, 5, 10, 50, 100, 1000, 10000, 100000] [True, False]\n",
      "{'alpha': [0.0001, 0.001, 0.0015, 0.01, 0.015, 0.1, 1, 5, 10, 50, 100, 1000, 10000, 100000], 'normalize': [True, False]}\n",
      "Best parameters set found on development set:\n",
      "\n",
      "{'alpha': 10, 'normalize': False}\n",
      "\n",
      "Grid scores on development set:\n",
      "\n"
     ]
    }
   ],
   "source": [
    "# Define the parameter values that should be searched\n",
    "alpha_range = [1e-4, 1e-3, 1.5e-3, 1e-2, 1.5e-2, 1e-1, 1, 5, 10, 50, 100, 1000, 10000, 100000]\n",
    "normalize_range = [True, False]\n",
    "print(alpha_range, normalize_range)\n",
    "\n",
    "# Create a parameter grid: map the parameter names to the values that should be searched\n",
    "param_grid = dict(alpha=alpha_range, normalize=normalize_range)\n",
    "print(param_grid)\n",
    "\n",
    "# Instantiate the grid\n",
    "grid = GridSearchCV(Lasso(), param_grid, cv=5)\n",
    "grid.fit(X2, y)\n",
    "\n",
    "# View best parameter\n",
    "print(\"Best parameters set found on development set:\")\n",
    "print()\n",
    "print(grid.best_params_)\n",
    "print()\n",
    "print(\"Grid scores on development set:\")\n",
    "print()\n",
    "means = grid.cv_results_['mean_test_score']\n",
    "stds = grid.cv_results_['std_test_score']"
   ]
  },
  {
   "cell_type": "markdown",
   "metadata": {},
   "source": [
    "**build lasso model with 'alpha': 10, 'normalize': False**"
   ]
  },
  {
   "cell_type": "code",
   "execution_count": 30,
   "metadata": {},
   "outputs": [
    {
     "name": "stdout",
     "output_type": "stream",
     "text": [
      "Coefficients: [   4.68725304   45.96652877   45.60747754  152.28521958    0.           -0.\n",
      "   34.57168722]\n",
      "\n",
      "Intercept: 393.349903597\n",
      "GS 4.68725304069\n",
      "MP 45.9665287723\n",
      "FTA 45.6074775429\n",
      "DRB 152.285219583\n",
      "STL 0.0\n",
      "TOV -0.0\n",
      "PS_Game 34.5716872185\n"
     ]
    }
   ],
   "source": [
    "# Run Lasso with optimized alpha and normalize parameters\n",
    "lasso2 = Lasso(alpha=10, normalize=False)\n",
    "\n",
    "# Fit model\n",
    "lasso2.fit(X2, y)\n",
    "\n",
    "# View coefficients and intercept\n",
    "print('Coefficients:',lasso2.coef_)\n",
    "print()\n",
    "print('Intercept:',lasso2.intercept_)\n",
    "\n",
    "# View each variable and its coefficient\n",
    "for var, co in zip(nba_df[['GS', 'MP', 'FTA', 'DRB', 'STL', 'TOV', 'PS_Game']], lasso2.coef_):\n",
    "    print(var, co)"
   ]
  },
  {
   "cell_type": "code",
   "execution_count": 31,
   "metadata": {},
   "outputs": [
    {
     "name": "stdout",
     "output_type": "stream",
     "text": [
      "0.544400608773\n"
     ]
    }
   ],
   "source": [
    "#5 fold cross-validation r^2 mean score\n",
    "lasso_scores = cross_val_score(lasso2, X2, y, cv=5)\n",
    "\n",
    "print(np.mean(lasso_scores))"
   ]
  },
  {
   "cell_type": "markdown",
   "metadata": {},
   "source": [
    "# ElasticNet"
   ]
  },
  {
   "cell_type": "code",
   "execution_count": 32,
   "metadata": {},
   "outputs": [
    {
     "name": "stdout",
     "output_type": "stream",
     "text": [
      "[0.0001, 0.001, 0.0015, 0.01, 0.015, 0.1, 1, 5, 10, 50, 100, 1000, 10000, 100000] [True, False]\n",
      "{'alpha': [0.0001, 0.001, 0.0015, 0.01, 0.015, 0.1, 1, 5, 10, 50, 100, 1000, 10000, 100000], 'normalize': [True, False]}\n",
      "Best parameters set found on development set:\n",
      "\n",
      "{'alpha': 0.001, 'normalize': True}\n",
      "\n",
      "Grid scores on development set:\n",
      "\n"
     ]
    }
   ],
   "source": [
    "from sklearn.linear_model import ElasticNet\n",
    "\n",
    "# Define the parameter values that should be searched\n",
    "alpha_range = [1e-4, 1e-3, 1.5e-3, 1e-2, 1.5e-2, 1e-1, 1, 5, 10, 50, 100, 1000, 10000, 100000]\n",
    "normalize_range = [True, False]\n",
    "print(alpha_range, normalize_range)\n",
    "\n",
    "# Create a parameter grid: map the parameter names to the values that should be searched\n",
    "param_grid = dict(alpha=alpha_range, normalize=normalize_range)\n",
    "print(param_grid)\n",
    "\n",
    "# Instantiate the grid\n",
    "grid = GridSearchCV(ElasticNet(), param_grid, cv=5)\n",
    "grid.fit(X2, y)\n",
    "\n",
    "# View best parameter\n",
    "print(\"Best parameters set found on development set:\")\n",
    "print()\n",
    "print(grid.best_params_)\n",
    "print()\n",
    "print(\"Grid scores on development set:\")\n",
    "print()\n",
    "means = grid.cv_results_['mean_test_score']\n",
    "stds = grid.cv_results_['std_test_score']"
   ]
  },
  {
   "cell_type": "code",
   "execution_count": 33,
   "metadata": {},
   "outputs": [
    {
     "name": "stdout",
     "output_type": "stream",
     "text": [
      "Coefficients: [   5.83398444   30.64535074   61.58483209  137.05895817  185.42779817\n",
      "   35.29798799   31.62587037]\n",
      "\n",
      "Intercept: 557.229289741\n",
      "GS 5.83398443516\n",
      "MP 30.6453507382\n",
      "FTA 61.5848320851\n",
      "DRB 137.058958168\n",
      "STL 185.427798171\n",
      "TOV 35.2979879893\n",
      "PS_Game 31.6258703696\n"
     ]
    }
   ],
   "source": [
    "# Run Lasso with optimized alpha and normalize parameters\n",
    "eNet2 = ElasticNet(alpha=0.001, normalize=True)\n",
    "\n",
    "# Fit model\n",
    "eNet2.fit(X2, y)\n",
    "\n",
    "# View coefficients and intercept\n",
    "print('Coefficients:',eNet2.coef_)\n",
    "print()\n",
    "print('Intercept:',eNet2.intercept_)\n",
    "\n",
    "# View each variable and its coefficient\n",
    "for var, co in zip(nba_df[['GS', 'MP', 'FTA', 'DRB', 'STL', 'TOV', 'PS_Game']], eNet2.coef_):\n",
    "    print(var, co)"
   ]
  },
  {
   "cell_type": "code",
   "execution_count": 34,
   "metadata": {},
   "outputs": [
    {
     "name": "stdout",
     "output_type": "stream",
     "text": [
      "0.545176988459\n"
     ]
    }
   ],
   "source": [
    "#5 fold cross-validation r^2 mean score\n",
    "eNet2Score = cross_val_score(eNet2, X2, y, cv=5)\n",
    "\n",
    "print(np.mean(eNet2Score))"
   ]
  },
  {
   "cell_type": "markdown",
   "metadata": {},
   "source": [
    "# MODEL 2 - highest correlated features to sqrtsalary (without multicollinearity) - regressing on sqrty"
   ]
  },
  {
   "cell_type": "code",
   "execution_count": 35,
   "metadata": {
    "collapsed": true
   },
   "outputs": [],
   "source": [
    "#train\n",
    "y = y_train\n",
    "X3 = X_train[['GS', 'MP', 'FG', 'FGA', 'twoP', 'twoPA', 'FT', 'FTA', 'DRB', 'TRB', 'STL', 'TOV', 'PS_Game']]\n",
    "\n",
    "#test\n",
    "y_test = y_test \n",
    "X_test3 = X_test[['GS', 'MP', 'FG', 'FGA', 'twoP', 'twoPA', 'FT', 'FTA', 'DRB', 'TRB', 'STL', 'TOV', 'PS_Game']]"
   ]
  },
  {
   "cell_type": "markdown",
   "metadata": {},
   "source": [
    "# Linear Regression Model"
   ]
  },
  {
   "cell_type": "code",
   "execution_count": 36,
   "metadata": {},
   "outputs": [
    {
     "name": "stdout",
     "output_type": "stream",
     "text": [
      "0.537452714109\n"
     ]
    }
   ],
   "source": [
    "linreg3 = LinearRegression()\n",
    "\n",
    "#5 fold cross-validation r^2 mean score\n",
    "linreg3_scores = cross_val_score(linreg3, X3, y, cv=5)\n",
    "\n",
    "print(np.mean(linreg3_scores))"
   ]
  },
  {
   "cell_type": "code",
   "execution_count": 37,
   "metadata": {},
   "outputs": [
    {
     "data": {
      "text/plain": [
       "0.56011987697234755"
      ]
     },
     "execution_count": 37,
     "metadata": {},
     "output_type": "execute_result"
    }
   ],
   "source": [
    "linreg3.fit(X3, y)\n",
    "linreg3.score(X_test3, y_test)"
   ]
  },
  {
   "cell_type": "code",
   "execution_count": 38,
   "metadata": {},
   "outputs": [
    {
     "data": {
      "text/plain": [
       "0.59140320746876829"
      ]
     },
     "execution_count": 38,
     "metadata": {},
     "output_type": "execute_result"
    }
   ],
   "source": [
    "linreg3.score(X3, y)"
   ]
  },
  {
   "cell_type": "markdown",
   "metadata": {},
   "source": [
    "**there is overfitting!**"
   ]
  },
  {
   "cell_type": "markdown",
   "metadata": {},
   "source": [
    "# Ridge Linear Regression Model"
   ]
  },
  {
   "cell_type": "markdown",
   "metadata": {},
   "source": [
    "**find the best hyperparameters using grid search**"
   ]
  },
  {
   "cell_type": "code",
   "execution_count": 39,
   "metadata": {},
   "outputs": [
    {
     "name": "stdout",
     "output_type": "stream",
     "text": [
      "[0.0001, 0.001, 0.0015, 0.01, 0.015, 0.1, 1, 5, 10, 50, 100, 1000, 10000, 100000] [True, False]\n",
      "{'alpha': [0.0001, 0.001, 0.0015, 0.01, 0.015, 0.1, 1, 5, 10, 50, 100, 1000, 10000, 100000], 'normalize': [True, False]}\n",
      "Best parameters set found on development set:\n",
      "\n",
      "{'alpha': 0.1, 'normalize': True}\n",
      "\n",
      "\n"
     ]
    }
   ],
   "source": [
    "# Define the parameter values that should be searched\n",
    "alpha_range = [1e-4, 1e-3, 1.5e-3, 1e-2, 1.5e-2, 1e-1, 1, 5, 10, 50, 100, 1000, 10000, 100000]\n",
    "normalize_range = [True, False]\n",
    "print(alpha_range, normalize_range)\n",
    "\n",
    "# Create a parameter grid: map the parameter names to the values that should be searched\n",
    "param_grid = dict(alpha=alpha_range, normalize=normalize_range)\n",
    "print(param_grid)\n",
    "\n",
    "# Instantiate the grid\n",
    "grid = GridSearchCV(Ridge(), param_grid, cv=5)\n",
    "grid.fit(X3, y)\n",
    "\n",
    "# View best parameter\n",
    "print(\"Best parameters set found on development set:\")\n",
    "print()\n",
    "print(grid.best_params_)\n",
    "print()\n",
    "print()\n",
    "means = grid.cv_results_['mean_test_score']\n",
    "stds = grid.cv_results_['std_test_score']\n",
    "\n",
    "#grid2, X3, and y "
   ]
  },
  {
   "cell_type": "markdown",
   "metadata": {},
   "source": [
    "**build ridge model with 'alpha': 0.1, 'normalize': True**"
   ]
  },
  {
   "cell_type": "code",
   "execution_count": 40,
   "metadata": {},
   "outputs": [
    {
     "name": "stdout",
     "output_type": "stream",
     "text": [
      "Coefficients: [   5.3221011    30.1663084    54.13065793   14.70259556  -40.28545646\n",
      "  -16.04326603   24.91858759   45.17951402   88.19831258   58.25935833\n",
      "  168.7086629    11.99055764   24.11280191]\n",
      "\n",
      "Intercept: 495.717072089\n",
      "GS 5.32210110131\n",
      "MP 30.1663084024\n",
      "FG 54.1306579292\n",
      "FGA 14.7025955611\n",
      "twoP -40.2854564573\n",
      "twoPA -16.0432660311\n",
      "FT 24.9185875888\n",
      "FTA 45.1795140168\n",
      "DRB 88.1983125836\n",
      "TRB 58.259358334\n",
      "STL 168.708662904\n",
      "TOV 11.9905576423\n",
      "PS_Game 24.1128019095\n"
     ]
    }
   ],
   "source": [
    "# Run Lasso with optimized alpha and normalize parameters\n",
    "ridge3 = Ridge(alpha=0.1, normalize=True)\n",
    "\n",
    "# Fit model\n",
    "ridge3.fit(X3, y)\n",
    "\n",
    "# View coefficients and intercept\n",
    "print('Coefficients:',ridge3.coef_)\n",
    "print()\n",
    "print('Intercept:',ridge3.intercept_)\n",
    "\n",
    "# View each variable and its coefficient\n",
    "for var, co in zip(nba_df[['GS', 'MP', 'FG', 'FGA', 'twoP', 'twoPA', 'FT', 'FTA', 'DRB', 'TRB', 'STL', 'TOV', 'PS_Game']], ridge3.coef_):\n",
    "    print(var, co)"
   ]
  },
  {
   "cell_type": "code",
   "execution_count": 41,
   "metadata": {},
   "outputs": [
    {
     "name": "stdout",
     "output_type": "stream",
     "text": [
      "0.542972968266\n"
     ]
    }
   ],
   "source": [
    "#5 fold cross-validation r^2 mean score\n",
    "ridge_scores3 = cross_val_score(ridge3, X3, y, cv=5)\n",
    "\n",
    "print(np.mean(ridge_scores3))"
   ]
  },
  {
   "cell_type": "markdown",
   "metadata": {},
   "source": [
    "# Lasso Linear Regression Model"
   ]
  },
  {
   "cell_type": "markdown",
   "metadata": {},
   "source": [
    "**find the best hyperparameters using grid search**"
   ]
  },
  {
   "cell_type": "code",
   "execution_count": 42,
   "metadata": {},
   "outputs": [
    {
     "name": "stdout",
     "output_type": "stream",
     "text": [
      "[0.0001, 0.001, 0.0015, 0.01, 0.015, 0.1, 1, 5, 10, 50, 100, 1000, 10000, 100000] [True, False]\n",
      "{'alpha': [0.0001, 0.001, 0.0015, 0.01, 0.015, 0.1, 1, 5, 10, 50, 100, 1000, 10000, 100000], 'normalize': [True, False]}\n",
      "Best parameters set found on development set:\n",
      "\n",
      "{'alpha': 1, 'normalize': False}\n",
      "\n",
      "Grid scores on development set:\n",
      "\n"
     ]
    }
   ],
   "source": [
    "# Define the parameter values that should be searched\n",
    "alpha_range = [1e-4, 1e-3, 1.5e-3, 1e-2, 1.5e-2, 1e-1, 1, 5, 10, 50, 100, 1000, 10000, 100000]\n",
    "normalize_range = [True, False]\n",
    "print(alpha_range, normalize_range)\n",
    "\n",
    "# Create a parameter grid: map the parameter names to the values that should be searched\n",
    "param_grid = dict(alpha=alpha_range, normalize=normalize_range)\n",
    "print(param_grid)\n",
    "\n",
    "# Instantiate the grid\n",
    "grid = GridSearchCV(Lasso(), param_grid, cv=5)\n",
    "grid.fit(X3, y)\n",
    "\n",
    "# View best parameter\n",
    "print(\"Best parameters set found on development set:\")\n",
    "print()\n",
    "print(grid.best_params_)\n",
    "print()\n",
    "print(\"Grid scores on development set:\")\n",
    "print()\n",
    "means = grid.cv_results_['mean_test_score']\n",
    "stds = grid.cv_results_['std_test_score']"
   ]
  },
  {
   "cell_type": "markdown",
   "metadata": {},
   "source": [
    "**build lasso model with 'alpha': 1, 'normalize': False**"
   ]
  },
  {
   "cell_type": "code",
   "execution_count": 43,
   "metadata": {},
   "outputs": [
    {
     "name": "stdout",
     "output_type": "stream",
     "text": [
      "Coefficients: [   4.52567391   46.16428274  241.35002914 -386.48225023 -875.09227223\n",
      "  395.34706465 -379.08642575  185.1187562   140.39504984   20.99040187\n",
      "   89.91346155   10.31139578  301.0063911 ]\n",
      "\n",
      "Intercept: 419.296116864\n",
      "GS 4.52567390832\n",
      "MP 46.1642827425\n",
      "FG 241.350029138\n",
      "FGA -386.482250228\n",
      "twoP -875.09227223\n",
      "twoPA 395.347064647\n",
      "FT -379.08642575\n",
      "FTA 185.118756196\n",
      "DRB 140.395049841\n",
      "TRB 20.9904018698\n",
      "STL 89.9134615473\n",
      "TOV 10.3113957781\n",
      "PS_Game 301.006391103\n"
     ]
    }
   ],
   "source": [
    "# Run Lasso with optimized alpha and normalize parameters\n",
    "lasso3 = Lasso(alpha=1, normalize=False)\n",
    "\n",
    "# Fit model\n",
    "lasso3.fit(X3, y)\n",
    "\n",
    "# View coefficients and intercept\n",
    "print('Coefficients:',lasso3.coef_)\n",
    "print()\n",
    "print('Intercept:',lasso3.intercept_)\n",
    "\n",
    "# View each variable and its coefficient\n",
    "for var, co in zip(nba_df[['GS', 'MP', 'FG', 'FGA', 'twoP', 'twoPA', 'FT', 'FTA', 'DRB', 'TRB', 'STL', 'TOV', 'PS_Game']], lasso3.coef_):\n",
    "    print(var, co)"
   ]
  },
  {
   "cell_type": "code",
   "execution_count": 44,
   "metadata": {},
   "outputs": [
    {
     "name": "stdout",
     "output_type": "stream",
     "text": [
      "0.541931850043\n"
     ]
    }
   ],
   "source": [
    "#5 fold cross-validation r^2 mean score\n",
    "lasso_scores = cross_val_score(lasso3, X3, y, cv=5)\n",
    "\n",
    "print(np.mean(lasso_scores))"
   ]
  },
  {
   "cell_type": "markdown",
   "metadata": {},
   "source": [
    "# Elastic Net"
   ]
  },
  {
   "cell_type": "code",
   "execution_count": 45,
   "metadata": {},
   "outputs": [
    {
     "name": "stdout",
     "output_type": "stream",
     "text": [
      "[0.0001, 0.001, 0.0015, 0.01, 0.015, 0.1, 1, 5, 10, 50, 100, 1000, 10000, 100000] [True, False]\n",
      "{'alpha': [0.0001, 0.001, 0.0015, 0.01, 0.015, 0.1, 1, 5, 10, 50, 100, 1000, 10000, 100000], 'normalize': [True, False]}\n",
      "Best parameters set found on development set:\n",
      "\n",
      "{'alpha': 0.001, 'normalize': True}\n",
      "\n",
      "Grid scores on development set:\n",
      "\n"
     ]
    }
   ],
   "source": [
    "from sklearn.linear_model import ElasticNet\n",
    "\n",
    "# Define the parameter values that should be searched\n",
    "alpha_range = [1e-4, 1e-3, 1.5e-3, 1e-2, 1.5e-2, 1e-1, 1, 5, 10, 50, 100, 1000, 10000, 100000]\n",
    "normalize_range = [True, False]\n",
    "print(alpha_range, normalize_range)\n",
    "\n",
    "# Create a parameter grid: map the parameter names to the values that should be searched\n",
    "param_grid = dict(alpha=alpha_range, normalize=normalize_range)\n",
    "print(param_grid)\n",
    "\n",
    "# Instantiate the grid\n",
    "grid = GridSearchCV(ElasticNet(), param_grid, cv=5)\n",
    "grid.fit(X3, y)\n",
    "\n",
    "# View best parameter\n",
    "print(\"Best parameters set found on development set:\")\n",
    "print()\n",
    "print(grid.best_params_)\n",
    "print()\n",
    "print(\"Grid scores on development set:\")\n",
    "print()\n",
    "means = grid.cv_results_['mean_test_score']\n",
    "stds = grid.cv_results_['std_test_score']"
   ]
  },
  {
   "cell_type": "code",
   "execution_count": 46,
   "metadata": {},
   "outputs": [
    {
     "name": "stdout",
     "output_type": "stream",
     "text": [
      "Coefficients: [   5.27638557   26.86687353   47.33473781   16.59416389  -23.51712707\n",
      "  -10.483995     29.57131467   39.19158041   85.08051332   55.48246375\n",
      "  189.51007814   21.08033396   20.89255817]\n",
      "\n",
      "Intercept: 534.838003352\n",
      "GS 5.27638557468\n",
      "MP 26.8668735297\n",
      "FG 47.3347378072\n",
      "FGA 16.5941638949\n",
      "twoP -23.5171270677\n",
      "twoPA -10.4839949964\n",
      "FT 29.5713146663\n",
      "FTA 39.1915804066\n",
      "DRB 85.0805133202\n",
      "TRB 55.4824637537\n",
      "STL 189.510078141\n",
      "TOV 21.0803339595\n",
      "PS_Game 20.8925581716\n"
     ]
    }
   ],
   "source": [
    "# Run Lasso with optimized alpha and normalize parameters\n",
    "eNet3 = ElasticNet(alpha=0.001, normalize=True)\n",
    "\n",
    "# Fit model\n",
    "eNet3.fit(X3, y)\n",
    "\n",
    "# View coefficients and intercept\n",
    "print('Coefficients:',eNet3.coef_)\n",
    "print()\n",
    "print('Intercept:',eNet3.intercept_)\n",
    "\n",
    "# View each variable and its coefficient\n",
    "for var, co in zip(nba_df[['GS', 'MP', 'FG', 'FGA', 'twoP', 'twoPA', 'FT', 'FTA', 'DRB', 'TRB', 'STL', 'TOV', 'PS_Game']], eNet3.coef_):\n",
    "    print(var, co)"
   ]
  },
  {
   "cell_type": "code",
   "execution_count": 47,
   "metadata": {},
   "outputs": [
    {
     "name": "stdout",
     "output_type": "stream",
     "text": [
      "0.545176988459\n"
     ]
    }
   ],
   "source": [
    "#5 fold cross-validation r^2 mean score\n",
    "eNet3Score = cross_val_score(eNet3, X3, y, cv=5)\n",
    "\n",
    "print(np.mean(eNet2Score))"
   ]
  },
  {
   "cell_type": "code",
   "execution_count": 48,
   "metadata": {
    "collapsed": true
   },
   "outputs": [],
   "source": [
    "#CHOOSE YOUR MODEL BASED ON THE HIGHEST CROSS VALIDATION SCORE ACROSS ALL FEATURE SETS AND CORRESPONDING MODELS"
   ]
  },
  {
   "cell_type": "markdown",
   "metadata": {
    "collapsed": true
   },
   "source": [
    "My best is Model 3 features with Ridge (parameters being 'alpha': 1, 'normalize': False)"
   ]
  },
  {
   "cell_type": "markdown",
   "metadata": {},
   "source": [
    "# Analysis of my best model"
   ]
  },
  {
   "cell_type": "markdown",
   "metadata": {},
   "source": [
    "- All four of the models are scoring around the same with a score of about 0.5 - ridge of Model3 did the best (0.56)\n",
    "- The ridge regression model makes the most sense intuitively because it is weighting the statistical categories uniformly rather than putting a heavy weight on just one or two categories like the linear regression did"
   ]
  },
  {
   "cell_type": "markdown",
   "metadata": {},
   "source": [
    "**RMSE**"
   ]
  },
  {
   "cell_type": "code",
   "execution_count": 49,
   "metadata": {
    "collapsed": true
   },
   "outputs": [],
   "source": [
    "#calculate rmse\n",
    "from sklearn.metrics import mean_squared_error\n",
    "from math import sqrt\n",
    "\n",
    "y_pred_test = ridge.predict(X_test)"
   ]
  },
  {
   "cell_type": "code",
   "execution_count": 50,
   "metadata": {
    "collapsed": true
   },
   "outputs": [],
   "source": [
    "rms = sqrt(mean_squared_error(y_test, y_pred_test))"
   ]
  },
  {
   "cell_type": "code",
   "execution_count": 51,
   "metadata": {},
   "outputs": [
    {
     "data": {
      "text/plain": [
       "720523.5168880293"
      ]
     },
     "execution_count": 51,
     "metadata": {},
     "output_type": "execute_result"
    }
   ],
   "source": [
    "rms**2"
   ]
  },
  {
   "cell_type": "code",
   "execution_count": 52,
   "metadata": {
    "collapsed": true
   },
   "outputs": [],
   "source": [
    "#this is a measure of the spread of the y values about the predicted y value. \n",
    "#we expect 68% of the y values to be within one r.m.s. error, and 95% to be within two r.m.s. errors of the predicted values\n",
    "#i am 95% confident that the salary I predict is +- 720523*2"
   ]
  },
  {
   "cell_type": "markdown",
   "metadata": {},
   "source": [
    "**plotting residuals**"
   ]
  },
  {
   "cell_type": "code",
   "execution_count": 58,
   "metadata": {},
   "outputs": [
    {
     "data": {
      "text/plain": [
       "Text(0,0.5,'Residuals')"
      ]
     },
     "execution_count": 58,
     "metadata": {},
     "output_type": "execute_result"
    },
    {
     "data": {
      "image/png": "[encoded data removed]",
      "text/plain": [
       "<matplotlib.figure.Figure at 0x1c145c7c18>"
      ]
     },
     "metadata": {},
     "output_type": "display_data"
    }
   ],
   "source": [
    "#or should i still be using sqrt(y)?\n",
    "\n",
    "ridge_resid = (y_test**2) - (y_pred_test**2)\n",
    "plt.scatter((y_pred_test**2), ridge_resid)\n",
    "plt.title(\"Predicted Salary Vs. Residuals\")\n",
    "plt.xlabel(\"Predicted Salary\")\n",
    "plt.ylabel(\"Residuals\")"
   ]
  },
  {
   "cell_type": "code",
   "execution_count": 54,
   "metadata": {},
   "outputs": [
    {
     "data": {
      "image/png": "[encoded data removed]",
      "text/plain": [
       "<matplotlib.figure.Figure at 0x1c09fd4be0>"
      ]
     },
     "metadata": {},
     "output_type": "display_data"
    }
   ],
   "source": [
    "#or should i still be using sqrt(y)?\n",
    "\n",
    "ridge_resid = (y_test) - (y_pred_test)\n",
    "plt.scatter((y_pred_test), ridge_resid)\n",
    "\n",
    "plt.title(\"Residual Plot\")\n",
    "plt.xlabel(\"Predicted Sqrt(Salaries)\")\n",
    "plt.ylabel(\"Residuals\")\n",
    "\n",
    "plt.axhline(0)\n",
    "\n",
    "\n",
    "plt.savefig('Residual.png')"
   ]
  },
  {
   "cell_type": "markdown",
   "metadata": {},
   "source": [
    "- relatively homoskedastic (still a bit of hetero in the beginning) - it's clear that there's less variance at low salary levels than middle salary levels"
   ]
  },
  {
   "cell_type": "markdown",
   "metadata": {},
   "source": [
    "**Plotting actual salary vs. predicted salary using training and testing data**"
   ]
  },
  {
   "cell_type": "code",
   "execution_count": 59,
   "metadata": {},
   "outputs": [
    {
     "data": {
      "text/plain": [
       "<seaborn.axisgrid.JointGrid at 0x1c1481e4e0>"
      ]
     },
     "execution_count": 59,
     "metadata": {},
     "output_type": "execute_result"
    },
    {
     "data": {
      "image/png": "[encoded data removed]",
      "text/plain": [
       "<matplotlib.figure.Figure at 0x1c09f9df98>"
      ]
     },
     "metadata": {},
     "output_type": "display_data"
    }
   ],
   "source": [
    "#train data\n",
    "\n",
    "salary_train_pred = ridge.predict(X)\n",
    "z = sns.jointplot(y, salary_train_pred)\n",
    "z.set_axis_labels('sqrt(salary)', 'Predicted Sqrt(Salary)', fontsize=16)"
   ]
  },
  {
   "cell_type": "markdown",
   "metadata": {},
   "source": [
    "Model is performing pretty well on training data with a pearsonr of 0.81."
   ]
  },
  {
   "cell_type": "code",
   "execution_count": 60,
   "metadata": {},
   "outputs": [
    {
     "data": {
      "image/png": "[encoded data removed]",
      "text/plain": [
       "<matplotlib.figure.Figure at 0x1c147f3f98>"
      ]
     },
     "metadata": {},
     "output_type": "display_data"
    }
   ],
   "source": [
    "#test data \n",
    "\n",
    "plt.scatter(y_test**2, y_pred_test**2)\n",
    "\n",
    "plt.title(\"Actual Salary Vs. Predicted Salary\")\n",
    "plt.xlabel(\"Actual Salary\")\n",
    "plt.ylabel(\"Predicted Salary\")\n",
    "\n",
    "plt.savefig(\"final_graph\")"
   ]
  },
  {
   "cell_type": "raw",
   "metadata": {},
   "source": [
    "Model is performing pretty well on training data with a pearsonr of 0.81."
   ]
  },
  {
   "cell_type": "code",
   "execution_count": null,
   "metadata": {
    "collapsed": true
   },
   "outputs": [],
   "source": [
    "#presentation\n",
    "- go over dataset - scrape, clean, etc (DONE)\n",
    "- how i transformed my y (DONE)\n",
    "- how i started building my models (base features) -- show correlation graphs, scores, etc (DONE)\n",
    "- ^my base r^2 \n",
    "- how i improved that r^2 - adding more features, transformation, etc (DONE)\n",
    "- residual plot (DONE)\n",
    "- final models (DONE)\n",
    "-interpret coefficients of final model - run stats models will give us the p-values (how stable each coefficient is) low p value --> strong relationship to salary\n",
    "- multicollinearity in the features (lasso 0-ed out)\n",
    "- put RMSE (compare y_test_pred and y_test)"
   ]
  }
 ],
 "metadata": {
  "kernelspec": {
   "display_name": "Python 3",
   "language": "python",
   "name": "python3"
  },
  "language_info": {
   "codemirror_mode": {
    "name": "ipython",
    "version": 3
   },
   "file_extension": ".py",
   "mimetype": "text/x-python",
   "name": "python",
   "nbconvert_exporter": "python",
   "pygments_lexer": "ipython3",
   "version": "3.6.3"
  }
 },
 "nbformat": 4,
 "nbformat_minor": 2
}
